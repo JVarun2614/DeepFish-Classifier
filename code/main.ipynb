{
 "cells": [
  {
   "cell_type": "code",
   "execution_count": null,
   "id": "a477b61e",
   "metadata": {},
   "outputs": [],
   "source": [
    "import gradio as gr\n",
    "import numpy as np\n",
    "from tensorflow.keras.models import load_model\n",
    "from tensorflow.keras.preprocessing import image"
   ]
  },
  {
   "cell_type": "markdown",
   "id": "c0c13ec3",
   "metadata": {},
   "source": [
    "### Load the saved model"
   ]
  },
  {
   "cell_type": "code",
   "execution_count": null,
   "id": "a556b8da",
   "metadata": {},
   "outputs": [],
   "source": [
    "model = load_model('/models/cnn_model.h5')"
   ]
  },
  {
   "cell_type": "markdown",
   "id": "aa1250c7",
   "metadata": {},
   "source": [
    "### Preprocess an input image"
   ]
  },
  {
   "cell_type": "code",
   "execution_count": 2,
   "id": "b94f2ee3",
   "metadata": {},
   "outputs": [],
   "source": [
    "def preprocess_input_image(img_path, target_size=(224, 224)):\n",
    "    img = image.load_img(img_path, target_size=target_size)\n",
    "    img_array = image.img_to_array(img)\n",
    "    img_array = np.expand_dims(img_array, axis=0)\n",
    "    img_array /= 255.0\n",
    "    return img_array"
   ]
  },
  {
   "cell_type": "code",
   "execution_count": null,
   "id": "cbee3fbe",
   "metadata": {},
   "outputs": [],
   "source": [
    "# Path to the input image\n",
    "input_image_path = ''\n",
    "\n",
    "# Preprocess the input image\n",
    "input_image = preprocess_input_image(input_image_path)\n",
    "\n",
    "# Make predictions\n",
    "predictions = model.predict(input_image)\n",
    "predicted_label = np.argmax(predictions)"
   ]
  },
  {
   "cell_type": "code",
   "execution_count": null,
   "id": "58ae7099",
   "metadata": {},
   "outputs": [],
   "source": [
    "# Print the predicted label\n",
    "print(f\"Predicted Label: {predicted_label}\")"
   ]
  },
  {
   "cell_type": "markdown",
   "id": "28d0dbef",
   "metadata": {},
   "source": [
    "### Predict label for the uploaded image"
   ]
  },
  {
   "cell_type": "code",
   "execution_count": null,
   "id": "149665f7",
   "metadata": {},
   "outputs": [],
   "source": [
    "def classify_image(input_image):\n",
    "    # Preprocess the input image\n",
    "    input_image = preprocess_input_image(input_image)\n",
    "\n",
    "    # Make predictions\n",
    "    predictions = model.predict(input_image)\n",
    "    predicted_label = np.argmax(predictions)\n",
    "\n",
    "    # Return the predicted label\n",
    "    return f\"Predicted Label: {predicted_label}\""
   ]
  },
  {
   "cell_type": "markdown",
   "id": "2a64b232",
   "metadata": {},
   "source": [
    "### User Interface "
   ]
  },
  {
   "cell_type": "code",
   "execution_count": null,
   "id": "8ba4ad73",
   "metadata": {},
   "outputs": [],
   "source": [
    "# Gradio Interface\n",
    "user_interface = gr.Interface(\n",
    "    fn=classify_image,\n",
    "    inputs=gr.Image(),\n",
    "    outputs=\"text\",\n",
    "    live=True,\n",
    "    interpretation=\"default\",\n",
    "    capture_session=True\n",
    ")\n",
    "\n",
    "# Launch the interface\n",
    "user_interface.launch()"
   ]
  },
  {
   "cell_type": "code",
   "execution_count": null,
   "id": "92d49942",
   "metadata": {},
   "outputs": [],
   "source": []
  },
  {
   "cell_type": "code",
   "execution_count": null,
   "id": "97c0612f",
   "metadata": {},
   "outputs": [],
   "source": []
  }
 ],
 "metadata": {
  "kernelspec": {
   "display_name": "Python 3 (ipykernel)",
   "language": "python",
   "name": "python3"
  },
  "language_info": {
   "codemirror_mode": {
    "name": "ipython",
    "version": 3
   },
   "file_extension": ".py",
   "mimetype": "text/x-python",
   "name": "python",
   "nbconvert_exporter": "python",
   "pygments_lexer": "ipython3",
   "version": "3.9.13"
  }
 },
 "nbformat": 4,
 "nbformat_minor": 5
}
