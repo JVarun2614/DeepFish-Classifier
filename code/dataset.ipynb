{
 "cells": [
  {
   "cell_type": "code",
   "execution_count": 1,
   "id": "b26373dd",
   "metadata": {},
   "outputs": [],
   "source": [
    "import numpy as np\n",
    "import pandas as pd\n",
    "from pathlib import Path\n",
    "import os.path\n",
    "from ydata_profiling import ProfileReport"
   ]
  },
  {
   "cell_type": "code",
   "execution_count": 2,
   "id": "49c9bcce",
   "metadata": {},
   "outputs": [],
   "source": [
    "image_dir = Path(\"../data/Fish_Dataset\")"
   ]
  },
  {
   "cell_type": "markdown",
   "id": "2b7c4d2b",
   "metadata": {},
   "source": [
    "## Create DataFrame"
   ]
  },
  {
   "cell_type": "code",
   "execution_count": 3,
   "id": "8dc55e3b",
   "metadata": {},
   "outputs": [],
   "source": [
    "# Get images and labels\n",
    "images = list(image_dir.glob(r'**/*.png'))\n",
    "labels = list(map(lambda x: os.path.split(os.path.split(x)[0])[1], images))"
   ]
  },
  {
   "cell_type": "code",
   "execution_count": 4,
   "id": "b6211968",
   "metadata": {},
   "outputs": [],
   "source": [
    "images = pd.Series(images, name='Image').astype(str)\n",
    "labels = pd.Series(labels, name='Label')\n",
    "\n",
    "# Concatenate images and labels\n",
    "df = pd.concat([images, labels], axis=1)"
   ]
  },
  {
   "cell_type": "code",
   "execution_count": 5,
   "id": "40b344b6",
   "metadata": {},
   "outputs": [
    {
     "data": {
      "text/html": [
       "<div>\n",
       "<style scoped>\n",
       "    .dataframe tbody tr th:only-of-type {\n",
       "        vertical-align: middle;\n",
       "    }\n",
       "\n",
       "    .dataframe tbody tr th {\n",
       "        vertical-align: top;\n",
       "    }\n",
       "\n",
       "    .dataframe thead th {\n",
       "        text-align: right;\n",
       "    }\n",
       "</style>\n",
       "<table border=\"1\" class=\"dataframe\">\n",
       "  <thead>\n",
       "    <tr style=\"text-align: right;\">\n",
       "      <th></th>\n",
       "      <th>Image</th>\n",
       "      <th>Label</th>\n",
       "    </tr>\n",
       "  </thead>\n",
       "  <tbody>\n",
       "    <tr>\n",
       "      <th>0</th>\n",
       "      <td>..\\data\\Fish_Dataset\\Black Sea Sprat\\Black Sea...</td>\n",
       "      <td>Black Sea Sprat</td>\n",
       "    </tr>\n",
       "    <tr>\n",
       "      <th>1</th>\n",
       "      <td>..\\data\\Fish_Dataset\\Black Sea Sprat\\Black Sea...</td>\n",
       "      <td>Black Sea Sprat</td>\n",
       "    </tr>\n",
       "    <tr>\n",
       "      <th>2</th>\n",
       "      <td>..\\data\\Fish_Dataset\\Black Sea Sprat\\Black Sea...</td>\n",
       "      <td>Black Sea Sprat</td>\n",
       "    </tr>\n",
       "    <tr>\n",
       "      <th>3</th>\n",
       "      <td>..\\data\\Fish_Dataset\\Black Sea Sprat\\Black Sea...</td>\n",
       "      <td>Black Sea Sprat</td>\n",
       "    </tr>\n",
       "    <tr>\n",
       "      <th>4</th>\n",
       "      <td>..\\data\\Fish_Dataset\\Black Sea Sprat\\Black Sea...</td>\n",
       "      <td>Black Sea Sprat</td>\n",
       "    </tr>\n",
       "    <tr>\n",
       "      <th>...</th>\n",
       "      <td>...</td>\n",
       "      <td>...</td>\n",
       "    </tr>\n",
       "    <tr>\n",
       "      <th>17995</th>\n",
       "      <td>..\\data\\Fish_Dataset\\Trout\\Trout GT\\00996.png</td>\n",
       "      <td>Trout GT</td>\n",
       "    </tr>\n",
       "    <tr>\n",
       "      <th>17996</th>\n",
       "      <td>..\\data\\Fish_Dataset\\Trout\\Trout GT\\00997.png</td>\n",
       "      <td>Trout GT</td>\n",
       "    </tr>\n",
       "    <tr>\n",
       "      <th>17997</th>\n",
       "      <td>..\\data\\Fish_Dataset\\Trout\\Trout GT\\00998.png</td>\n",
       "      <td>Trout GT</td>\n",
       "    </tr>\n",
       "    <tr>\n",
       "      <th>17998</th>\n",
       "      <td>..\\data\\Fish_Dataset\\Trout\\Trout GT\\00999.png</td>\n",
       "      <td>Trout GT</td>\n",
       "    </tr>\n",
       "    <tr>\n",
       "      <th>17999</th>\n",
       "      <td>..\\data\\Fish_Dataset\\Trout\\Trout GT\\01000.png</td>\n",
       "      <td>Trout GT</td>\n",
       "    </tr>\n",
       "  </tbody>\n",
       "</table>\n",
       "<p>18000 rows × 2 columns</p>\n",
       "</div>"
      ],
      "text/plain": [
       "                                                   Image            Label\n",
       "0      ..\\data\\Fish_Dataset\\Black Sea Sprat\\Black Sea...  Black Sea Sprat\n",
       "1      ..\\data\\Fish_Dataset\\Black Sea Sprat\\Black Sea...  Black Sea Sprat\n",
       "2      ..\\data\\Fish_Dataset\\Black Sea Sprat\\Black Sea...  Black Sea Sprat\n",
       "3      ..\\data\\Fish_Dataset\\Black Sea Sprat\\Black Sea...  Black Sea Sprat\n",
       "4      ..\\data\\Fish_Dataset\\Black Sea Sprat\\Black Sea...  Black Sea Sprat\n",
       "...                                                  ...              ...\n",
       "17995      ..\\data\\Fish_Dataset\\Trout\\Trout GT\\00996.png         Trout GT\n",
       "17996      ..\\data\\Fish_Dataset\\Trout\\Trout GT\\00997.png         Trout GT\n",
       "17997      ..\\data\\Fish_Dataset\\Trout\\Trout GT\\00998.png         Trout GT\n",
       "17998      ..\\data\\Fish_Dataset\\Trout\\Trout GT\\00999.png         Trout GT\n",
       "17999      ..\\data\\Fish_Dataset\\Trout\\Trout GT\\01000.png         Trout GT\n",
       "\n",
       "[18000 rows x 2 columns]"
      ]
     },
     "execution_count": 5,
     "metadata": {},
     "output_type": "execute_result"
    }
   ],
   "source": [
    "df"
   ]
  },
  {
   "cell_type": "markdown",
   "id": "5bb7024b",
   "metadata": {},
   "source": [
    "## GT Image Folder Cleanup"
   ]
  },
  {
   "cell_type": "code",
   "execution_count": 6,
   "id": "d7a522c4",
   "metadata": {},
   "outputs": [],
   "source": [
    "# Drop GT images\n",
    "df['Label'] = df['Label'].apply(lambda x: np.NaN if x[-2:] == 'GT' else x)"
   ]
  },
  {
   "cell_type": "markdown",
   "id": "8d37fa20",
   "metadata": {},
   "source": [
    "## Preprocessing"
   ]
  },
  {
   "cell_type": "code",
   "execution_count": 7,
   "id": "f772e577",
   "metadata": {},
   "outputs": [],
   "source": [
    "df = df.dropna()"
   ]
  },
  {
   "cell_type": "code",
   "execution_count": 8,
   "id": "8377c096",
   "metadata": {},
   "outputs": [
    {
     "data": {
      "text/html": [
       "<div>\n",
       "<style scoped>\n",
       "    .dataframe tbody tr th:only-of-type {\n",
       "        vertical-align: middle;\n",
       "    }\n",
       "\n",
       "    .dataframe tbody tr th {\n",
       "        vertical-align: top;\n",
       "    }\n",
       "\n",
       "    .dataframe thead th {\n",
       "        text-align: right;\n",
       "    }\n",
       "</style>\n",
       "<table border=\"1\" class=\"dataframe\">\n",
       "  <thead>\n",
       "    <tr style=\"text-align: right;\">\n",
       "      <th></th>\n",
       "      <th>Image</th>\n",
       "      <th>Label</th>\n",
       "    </tr>\n",
       "  </thead>\n",
       "  <tbody>\n",
       "    <tr>\n",
       "      <th>0</th>\n",
       "      <td>..\\data\\Fish_Dataset\\Black Sea Sprat\\Black Sea...</td>\n",
       "      <td>Black Sea Sprat</td>\n",
       "    </tr>\n",
       "    <tr>\n",
       "      <th>1</th>\n",
       "      <td>..\\data\\Fish_Dataset\\Black Sea Sprat\\Black Sea...</td>\n",
       "      <td>Black Sea Sprat</td>\n",
       "    </tr>\n",
       "    <tr>\n",
       "      <th>2</th>\n",
       "      <td>..\\data\\Fish_Dataset\\Black Sea Sprat\\Black Sea...</td>\n",
       "      <td>Black Sea Sprat</td>\n",
       "    </tr>\n",
       "    <tr>\n",
       "      <th>3</th>\n",
       "      <td>..\\data\\Fish_Dataset\\Black Sea Sprat\\Black Sea...</td>\n",
       "      <td>Black Sea Sprat</td>\n",
       "    </tr>\n",
       "    <tr>\n",
       "      <th>4</th>\n",
       "      <td>..\\data\\Fish_Dataset\\Black Sea Sprat\\Black Sea...</td>\n",
       "      <td>Black Sea Sprat</td>\n",
       "    </tr>\n",
       "    <tr>\n",
       "      <th>...</th>\n",
       "      <td>...</td>\n",
       "      <td>...</td>\n",
       "    </tr>\n",
       "    <tr>\n",
       "      <th>16995</th>\n",
       "      <td>..\\data\\Fish_Dataset\\Trout\\Trout\\00996.png</td>\n",
       "      <td>Trout</td>\n",
       "    </tr>\n",
       "    <tr>\n",
       "      <th>16996</th>\n",
       "      <td>..\\data\\Fish_Dataset\\Trout\\Trout\\00997.png</td>\n",
       "      <td>Trout</td>\n",
       "    </tr>\n",
       "    <tr>\n",
       "      <th>16997</th>\n",
       "      <td>..\\data\\Fish_Dataset\\Trout\\Trout\\00998.png</td>\n",
       "      <td>Trout</td>\n",
       "    </tr>\n",
       "    <tr>\n",
       "      <th>16998</th>\n",
       "      <td>..\\data\\Fish_Dataset\\Trout\\Trout\\00999.png</td>\n",
       "      <td>Trout</td>\n",
       "    </tr>\n",
       "    <tr>\n",
       "      <th>16999</th>\n",
       "      <td>..\\data\\Fish_Dataset\\Trout\\Trout\\01000.png</td>\n",
       "      <td>Trout</td>\n",
       "    </tr>\n",
       "  </tbody>\n",
       "</table>\n",
       "<p>9000 rows × 2 columns</p>\n",
       "</div>"
      ],
      "text/plain": [
       "                                                   Image            Label\n",
       "0      ..\\data\\Fish_Dataset\\Black Sea Sprat\\Black Sea...  Black Sea Sprat\n",
       "1      ..\\data\\Fish_Dataset\\Black Sea Sprat\\Black Sea...  Black Sea Sprat\n",
       "2      ..\\data\\Fish_Dataset\\Black Sea Sprat\\Black Sea...  Black Sea Sprat\n",
       "3      ..\\data\\Fish_Dataset\\Black Sea Sprat\\Black Sea...  Black Sea Sprat\n",
       "4      ..\\data\\Fish_Dataset\\Black Sea Sprat\\Black Sea...  Black Sea Sprat\n",
       "...                                                  ...              ...\n",
       "16995         ..\\data\\Fish_Dataset\\Trout\\Trout\\00996.png            Trout\n",
       "16996         ..\\data\\Fish_Dataset\\Trout\\Trout\\00997.png            Trout\n",
       "16997         ..\\data\\Fish_Dataset\\Trout\\Trout\\00998.png            Trout\n",
       "16998         ..\\data\\Fish_Dataset\\Trout\\Trout\\00999.png            Trout\n",
       "16999         ..\\data\\Fish_Dataset\\Trout\\Trout\\01000.png            Trout\n",
       "\n",
       "[9000 rows x 2 columns]"
      ]
     },
     "execution_count": 8,
     "metadata": {},
     "output_type": "execute_result"
    }
   ],
   "source": [
    "df"
   ]
  },
  {
   "cell_type": "markdown",
   "id": "91303467",
   "metadata": {},
   "source": [
    "## Statistics Report"
   ]
  },
  {
   "cell_type": "code",
   "execution_count": 9,
   "id": "b83e0c27",
   "metadata": {},
   "outputs": [],
   "source": [
    "report = {\n",
    "    'Total Samples': len(df),\n",
    "    'Unique Labels': df['Label'].nunique(),\n",
    "    'Label Distribution': df['Label'].value_counts().to_dict()\n",
    "}"
   ]
  },
  {
   "cell_type": "code",
   "execution_count": 10,
   "id": "b6c75082",
   "metadata": {},
   "outputs": [
    {
     "name": "stdout",
     "output_type": "stream",
     "text": [
      "Statistics Report:\n",
      "Total Samples: 9000\n",
      "Unique Labels: 9\n",
      "Label Distribution: {'Black Sea Sprat': 1000, 'Gilt-Head Bream': 1000, 'Hourse Mackerel': 1000, 'Red Mullet': 1000, 'Red Sea Bream': 1000, 'Sea Bass': 1000, 'Shrimp': 1000, 'Striped Red Mullet': 1000, 'Trout': 1000}\n"
     ]
    }
   ],
   "source": [
    "print(\"Statistics Report:\")\n",
    "for key, value in report.items():\n",
    "    print(f\"{key}: {value}\")"
   ]
  },
  {
   "cell_type": "markdown",
   "id": "dfd92730",
   "metadata": {},
   "source": [
    "## Generate Report"
   ]
  },
  {
   "cell_type": "code",
   "execution_count": 11,
   "id": "5b34869d",
   "metadata": {},
   "outputs": [],
   "source": [
    "# Generate the report\n",
    "report = ProfileReport(df)"
   ]
  },
  {
   "cell_type": "code",
   "execution_count": 12,
   "id": "783de359",
   "metadata": {},
   "outputs": [],
   "source": [
    "# report"
   ]
  },
  {
   "cell_type": "markdown",
   "id": "43738cee",
   "metadata": {},
   "source": [
    "## Create Dataset"
   ]
  },
  {
   "cell_type": "code",
   "execution_count": 13,
   "id": "fb5a1e21",
   "metadata": {},
   "outputs": [],
   "source": [
    "df.to_csv('../data/preprocessed_dataset.csv', index=False)"
   ]
  },
  {
   "cell_type": "code",
   "execution_count": null,
   "id": "e11b5c7a",
   "metadata": {},
   "outputs": [],
   "source": []
  }
 ],
 "metadata": {
  "kernelspec": {
   "display_name": "Python 3 (ipykernel)",
   "language": "python",
   "name": "python3"
  },
  "language_info": {
   "codemirror_mode": {
    "name": "ipython",
    "version": 3
   },
   "file_extension": ".py",
   "mimetype": "text/x-python",
   "name": "python",
   "nbconvert_exporter": "python",
   "pygments_lexer": "ipython3",
   "version": "3.9.13"
  }
 },
 "nbformat": 4,
 "nbformat_minor": 5
}
