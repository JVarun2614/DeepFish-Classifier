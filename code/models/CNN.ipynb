{
 "cells": [
  {
   "cell_type": "code",
   "execution_count": 1,
   "id": "9e024ffa",
   "metadata": {},
   "outputs": [],
   "source": [
    "import pandas as pd\n",
    "import numpy as np\n",
    "from sklearn.model_selection import train_test_split\n",
    "from sklearn.metrics import accuracy_score, confusion_matrix, classification_report\n",
    "import matplotlib.pyplot as plt\n",
    "import seaborn as sns"
   ]
  },
  {
   "cell_type": "code",
   "execution_count": null,
   "id": "4a60160b",
   "metadata": {},
   "outputs": [],
   "source": [
    "from tensorflow.keras.models import Sequential\n",
    "from tensorflow.keras.layers import Conv2D, MaxPooling2D, Flatten, Dense\n",
    "from tensorflow.keras.utils import to_categorical\n",
    "from tensorflow.keras.preprocessing.image import img_to_array, load_img"
   ]
  },
  {
   "cell_type": "markdown",
   "id": "86c77d6c",
   "metadata": {},
   "source": [
    "### Load the dataset "
   ]
  },
  {
   "cell_type": "code",
   "execution_count": 2,
   "id": "425ae25b",
   "metadata": {},
   "outputs": [],
   "source": [
    "dataset_path = '../../data/preprocessed_dataset.csv'\n",
    "df = pd.read_csv(dataset_path)"
   ]
  },
  {
   "cell_type": "code",
   "execution_count": 3,
   "id": "048cd842",
   "metadata": {},
   "outputs": [
    {
     "data": {
      "text/html": [
       "<div>\n",
       "<style scoped>\n",
       "    .dataframe tbody tr th:only-of-type {\n",
       "        vertical-align: middle;\n",
       "    }\n",
       "\n",
       "    .dataframe tbody tr th {\n",
       "        vertical-align: top;\n",
       "    }\n",
       "\n",
       "    .dataframe thead th {\n",
       "        text-align: right;\n",
       "    }\n",
       "</style>\n",
       "<table border=\"1\" class=\"dataframe\">\n",
       "  <thead>\n",
       "    <tr style=\"text-align: right;\">\n",
       "      <th></th>\n",
       "      <th>Image</th>\n",
       "      <th>Label</th>\n",
       "    </tr>\n",
       "  </thead>\n",
       "  <tbody>\n",
       "    <tr>\n",
       "      <th>0</th>\n",
       "      <td>..\\data\\Fish_Dataset\\Black Sea Sprat\\Black Sea...</td>\n",
       "      <td>Black Sea Sprat</td>\n",
       "    </tr>\n",
       "    <tr>\n",
       "      <th>1</th>\n",
       "      <td>..\\data\\Fish_Dataset\\Black Sea Sprat\\Black Sea...</td>\n",
       "      <td>Black Sea Sprat</td>\n",
       "    </tr>\n",
       "    <tr>\n",
       "      <th>2</th>\n",
       "      <td>..\\data\\Fish_Dataset\\Black Sea Sprat\\Black Sea...</td>\n",
       "      <td>Black Sea Sprat</td>\n",
       "    </tr>\n",
       "    <tr>\n",
       "      <th>3</th>\n",
       "      <td>..\\data\\Fish_Dataset\\Black Sea Sprat\\Black Sea...</td>\n",
       "      <td>Black Sea Sprat</td>\n",
       "    </tr>\n",
       "    <tr>\n",
       "      <th>4</th>\n",
       "      <td>..\\data\\Fish_Dataset\\Black Sea Sprat\\Black Sea...</td>\n",
       "      <td>Black Sea Sprat</td>\n",
       "    </tr>\n",
       "    <tr>\n",
       "      <th>...</th>\n",
       "      <td>...</td>\n",
       "      <td>...</td>\n",
       "    </tr>\n",
       "    <tr>\n",
       "      <th>8995</th>\n",
       "      <td>..\\data\\Fish_Dataset\\Trout\\Trout\\00996.png</td>\n",
       "      <td>Trout</td>\n",
       "    </tr>\n",
       "    <tr>\n",
       "      <th>8996</th>\n",
       "      <td>..\\data\\Fish_Dataset\\Trout\\Trout\\00997.png</td>\n",
       "      <td>Trout</td>\n",
       "    </tr>\n",
       "    <tr>\n",
       "      <th>8997</th>\n",
       "      <td>..\\data\\Fish_Dataset\\Trout\\Trout\\00998.png</td>\n",
       "      <td>Trout</td>\n",
       "    </tr>\n",
       "    <tr>\n",
       "      <th>8998</th>\n",
       "      <td>..\\data\\Fish_Dataset\\Trout\\Trout\\00999.png</td>\n",
       "      <td>Trout</td>\n",
       "    </tr>\n",
       "    <tr>\n",
       "      <th>8999</th>\n",
       "      <td>..\\data\\Fish_Dataset\\Trout\\Trout\\01000.png</td>\n",
       "      <td>Trout</td>\n",
       "    </tr>\n",
       "  </tbody>\n",
       "</table>\n",
       "<p>9000 rows × 2 columns</p>\n",
       "</div>"
      ],
      "text/plain": [
       "                                                  Image            Label\n",
       "0     ..\\data\\Fish_Dataset\\Black Sea Sprat\\Black Sea...  Black Sea Sprat\n",
       "1     ..\\data\\Fish_Dataset\\Black Sea Sprat\\Black Sea...  Black Sea Sprat\n",
       "2     ..\\data\\Fish_Dataset\\Black Sea Sprat\\Black Sea...  Black Sea Sprat\n",
       "3     ..\\data\\Fish_Dataset\\Black Sea Sprat\\Black Sea...  Black Sea Sprat\n",
       "4     ..\\data\\Fish_Dataset\\Black Sea Sprat\\Black Sea...  Black Sea Sprat\n",
       "...                                                 ...              ...\n",
       "8995         ..\\data\\Fish_Dataset\\Trout\\Trout\\00996.png            Trout\n",
       "8996         ..\\data\\Fish_Dataset\\Trout\\Trout\\00997.png            Trout\n",
       "8997         ..\\data\\Fish_Dataset\\Trout\\Trout\\00998.png            Trout\n",
       "8998         ..\\data\\Fish_Dataset\\Trout\\Trout\\00999.png            Trout\n",
       "8999         ..\\data\\Fish_Dataset\\Trout\\Trout\\01000.png            Trout\n",
       "\n",
       "[9000 rows x 2 columns]"
      ]
     },
     "execution_count": 3,
     "metadata": {},
     "output_type": "execute_result"
    }
   ],
   "source": [
    "df"
   ]
  },
  {
   "cell_type": "markdown",
   "id": "137164c8",
   "metadata": {},
   "source": [
    "### Split the data into features (X) and labels (y)"
   ]
  },
  {
   "cell_type": "code",
   "execution_count": 4,
   "id": "af04cec2",
   "metadata": {},
   "outputs": [],
   "source": [
    "X = df['Image']\n",
    "y = df['Label']"
   ]
  },
  {
   "cell_type": "code",
   "execution_count": 5,
   "id": "7ca3aa04",
   "metadata": {},
   "outputs": [
    {
     "data": {
      "text/plain": [
       "('..\\\\data\\\\Fish_Dataset\\\\Black Sea Sprat\\\\Black Sea Sprat\\\\00001.png',\n",
       " 'Black Sea Sprat')"
      ]
     },
     "execution_count": 5,
     "metadata": {},
     "output_type": "execute_result"
    }
   ],
   "source": [
    "X[0], y[0]"
   ]
  },
  {
   "cell_type": "markdown",
   "id": "c85845fa",
   "metadata": {},
   "source": [
    "### Train and Test data"
   ]
  },
  {
   "cell_type": "code",
   "execution_count": 6,
   "id": "ff7df22d",
   "metadata": {},
   "outputs": [],
   "source": [
    "# Split the data into training and testing sets (80% train, 20% test)\n",
    "X_train, X_test, y_train, y_test = train_test_split(X, y, test_size=0.2, random_state=42)"
   ]
  },
  {
   "cell_type": "markdown",
   "id": "c0a68f60",
   "metadata": {},
   "source": [
    "### Image Preprocessing"
   ]
  },
  {
   "cell_type": "code",
   "execution_count": 7,
   "id": "4941b4df",
   "metadata": {},
   "outputs": [],
   "source": [
    "# Preprocess train and test images\n",
    "def preprocess_images(image_paths, target_size=(224, 224)):\n",
    "    images = []\n",
    "    for path in image_paths:\n",
    "        img = load_img(path, target_size=target_size)\n",
    "        img_array = img_to_array(img)\n",
    "        images.append(img_array)\n",
    "    return np.array(images)"
   ]
  },
  {
   "cell_type": "code",
   "execution_count": null,
   "id": "7b7dbff2",
   "metadata": {},
   "outputs": [],
   "source": [
    "# Preprocess train and test images\n",
    "X_train = preprocess_images(X_train.values)\n",
    "X_test = preprocess_images(X_test.values)"
   ]
  },
  {
   "cell_type": "code",
   "execution_count": null,
   "id": "ac8e17de",
   "metadata": {},
   "outputs": [],
   "source": [
    "# Normalize pixel values to be between 0 and 1\n",
    "X_train = X_train / 255.0\n",
    "X_test = X_test / 255.0"
   ]
  },
  {
   "cell_type": "code",
   "execution_count": null,
   "id": "08c5711b",
   "metadata": {},
   "outputs": [],
   "source": [
    "# Convert labels to categorical one-hot encoding\n",
    "y_train = to_categorical(y_train, num_classes=8)\n",
    "y_test = to_categorical(y_test, num_classes=8)"
   ]
  },
  {
   "cell_type": "markdown",
   "id": "3cd79f93",
   "metadata": {},
   "source": [
    "### CNN Model"
   ]
  },
  {
   "cell_type": "code",
   "execution_count": null,
   "id": "65cee50e",
   "metadata": {},
   "outputs": [],
   "source": [
    "model = Sequential()\n",
    "model.add(Conv2D(32, (3, 3), activation='relu', input_shape=(224, 224, 3)))\n",
    "model.add(MaxPooling2D((2, 2)))\n",
    "model.add(Conv2D(64, (3, 3), activation='relu'))\n",
    "model.add(MaxPooling2D((2, 2)))\n",
    "model.add(Conv2D(128, (3, 3), activation='relu'))\n",
    "model.add(MaxPooling2D((2, 2)))\n",
    "model.add(Flatten())\n",
    "model.add(Dense(128, activation='relu'))\n",
    "model.add(Dense(8, activation='softmax'))"
   ]
  },
  {
   "cell_type": "code",
   "execution_count": null,
   "id": "710832b3",
   "metadata": {},
   "outputs": [],
   "source": [
    "# Compile the model\n",
    "model.compile(optimizer='adam', loss='categorical_crossentropy', metrics=['accuracy'])"
   ]
  },
  {
   "cell_type": "markdown",
   "id": "7e1a4e71",
   "metadata": {},
   "source": [
    "### Train Model"
   ]
  },
  {
   "cell_type": "code",
   "execution_count": null,
   "id": "86ce3461",
   "metadata": {},
   "outputs": [],
   "source": [
    "# Train the model\n",
    "model.fit(X_train, y_train, epochs=10, batch_size=32, validation_split=0.1)"
   ]
  },
  {
   "cell_type": "markdown",
   "id": "7508faae",
   "metadata": {},
   "source": [
    "### Evaluate the model on the test set"
   ]
  },
  {
   "cell_type": "code",
   "execution_count": null,
   "id": "fe3c49f0",
   "metadata": {},
   "outputs": [],
   "source": [
    "# Evaluate the model on the test set\n",
    "predictions = model.predict(X_test)\n",
    "y_pred = np.argmax(predictions, axis=1)\n",
    "y_true = np.argmax(y_test, axis=1)"
   ]
  },
  {
   "cell_type": "markdown",
   "id": "8fff8b7b",
   "metadata": {},
   "source": [
    "### Performance"
   ]
  },
  {
   "cell_type": "code",
   "execution_count": null,
   "id": "2c4cf0b3",
   "metadata": {},
   "outputs": [],
   "source": [
    "# Calculate accuracy, confusion matrix, and classification report\n",
    "accuracy = np.mean(y_pred == y_true)\n",
    "conf_matrix = confusion_matrix(y_true, y_pred)\n",
    "class_report = classification_report(y_true, y_pred)"
   ]
  },
  {
   "cell_type": "code",
   "execution_count": null,
   "id": "050fc3d7",
   "metadata": {},
   "outputs": [],
   "source": [
    "print(f\"Accuracy: {accuracy}\")\n",
    "print(f\"Confusion Matrix:\\n{conf_matrix}\")\n",
    "print(f\"Classification Report:\\n{class_report}\")"
   ]
  },
  {
   "cell_type": "markdown",
   "id": "4d6074be",
   "metadata": {},
   "source": [
    "### Graphs"
   ]
  },
  {
   "cell_type": "code",
   "execution_count": null,
   "id": "d97760b6",
   "metadata": {},
   "outputs": [],
   "source": [
    "# Plot confusion matrix\n",
    "sns.heatmap(conf_matrix, annot=True, fmt='d', cmap='Blues', xticklabels=[f'Class {i}' for i in range(8)],\n",
    "            yticklabels=[f'Class {i}' for i in range(8)])\n",
    "plt.xlabel('Predicted')\n",
    "plt.ylabel('True')\n",
    "plt.title('Confusion Matrix')\n",
    "plt.show()"
   ]
  },
  {
   "cell_type": "markdown",
   "id": "8b59202b",
   "metadata": {},
   "source": [
    "### Save Model"
   ]
  },
  {
   "cell_type": "code",
   "execution_count": null,
   "id": "8816fe79",
   "metadata": {},
   "outputs": [],
   "source": [
    "model.save('cnn_model.h5')"
   ]
  },
  {
   "cell_type": "code",
   "execution_count": null,
   "id": "cf65d63b",
   "metadata": {},
   "outputs": [],
   "source": []
  }
 ],
 "metadata": {
  "kernelspec": {
   "display_name": "Python 3 (ipykernel)",
   "language": "python",
   "name": "python3"
  },
  "language_info": {
   "codemirror_mode": {
    "name": "ipython",
    "version": 3
   },
   "file_extension": ".py",
   "mimetype": "text/x-python",
   "name": "python",
   "nbconvert_exporter": "python",
   "pygments_lexer": "ipython3",
   "version": "3.9.13"
  }
 },
 "nbformat": 4,
 "nbformat_minor": 5
}
